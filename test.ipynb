{
 "cells": [
  {
   "cell_type": "markdown",
   "metadata": {
    "toc": "true"
   },
   "source": [
    " # Table of Contents\n",
    "<div class=\"toc\" style=\"margin-top: 1em;\"><ul class=\"toc-item\" id=\"toc-level0\"></ul></div>"
   ]
  },
  {
   "cell_type": "code",
   "execution_count": 1,
   "metadata": {
    "ExecuteTime": {
     "end_time": "2017-10-30T19:58:18.433758Z",
     "start_time": "2017-10-30T19:58:17.665061Z"
    },
    "collapsed": true
   },
   "outputs": [],
   "source": [
    "from datetime import date, datetime, time\n",
    "from dateutil.relativedelta import relativedelta\n",
    "import getopt\n",
    "from itertools import chain, izip, izip_longest, product\n",
    "import os\n",
    "import re\n",
    "import sys\n",
    "from textwrap import dedent\n",
    "import threading\n",
    "import time\n",
    "import urllib\n",
    "\n",
    "import graphviz\n",
    "from IPython.core.display import display, Image, HTML\n",
    "from IPython.core.magic import register_cell_magic,\\\n",
    "                               register_line_cell_magic,\\\n",
    "                               register_line_magic\n",
    "        \n",
    "%matplotlib inline\n",
    "import matplotlib.pyplot as plt\n",
    "import pandas as pd\n",
    "import pandas.io.sql as psql\n",
    "import psycopg2\n",
    "import seaborn as sns\n",
    "from sqlalchemy import create_engine, Column, MetaData, Table\n",
    "from sqlalchemy import all_, and_, any_, not_, or_\n",
    "from sqlalchemy import alias, between, case, cast, column, false, func,\\\n",
    "                       intersect, literal, literal_column, select, text, true\n",
    "from sqlalchemy import BigInteger, Boolean, Date, DateTime, Integer, Interval, Float,\\\n",
    "                       Numeric, String\n",
    "\n",
    "import credentials\n",
    "from mpp_plotting import *\n",
    "from sql_functions import *"
   ]
  },
  {
   "cell_type": "code",
   "execution_count": 2,
   "metadata": {
    "ExecuteTime": {
     "end_time": "2017-10-30T19:58:18.469703Z",
     "start_time": "2017-10-30T19:58:18.436356Z"
    },
    "collapsed": true
   },
   "outputs": [],
   "source": [
    "sns.set_palette('colorblind')"
   ]
  },
  {
   "cell_type": "code",
   "execution_count": 3,
   "metadata": {
    "ExecuteTime": {
     "end_time": "2017-10-30T19:58:18.541656Z",
     "start_time": "2017-10-30T19:58:18.471711Z"
    },
    "collapsed": true
   },
   "outputs": [],
   "source": [
    "# Psycopg2 connection\n",
    "conn = psycopg2.connect(**credentials.login_info_dict)\n",
    "conn.autocommit = True\n",
    "\n",
    "# SQLAlchemy connection\n",
    "engine_str = 'postgresql://{user}:{password}@{host}/{dbname}'\\\n",
    "    .format(**credentials.login_info_dict)\n",
    "engine = create_engine(engine_str)\n",
    "\n",
    "metadata = MetaData(engine)"
   ]
  },
  {
   "cell_type": "code",
   "execution_count": 4,
   "metadata": {
    "ExecuteTime": {
     "end_time": "2017-10-30T19:58:18.621862Z",
     "start_time": "2017-10-30T19:58:18.543915Z"
    },
    "collapsed": true
   },
   "outputs": [],
   "source": [
    "class ThreadManager:\n",
    "    def __call__(self, num_rows=5):\n",
    "        \"\"\"Returns the num_rows most recent threads (Default: 5)\"\"\"\n",
    "        \n",
    "        # Update exec time if thread has yet to finish\n",
    "        for ix in self.thread_df.index:\n",
    "            if self.thread_df.loc[ix, 'finish_time'] == '':\n",
    "                start_time = self.thread_df.loc[ix, 'start_time']\n",
    "                time_elapsed = datetime.now() - start_time\n",
    "                \n",
    "                self.thread_df.loc[ix, 'exec_time'] = time_elapsed\n",
    "        return self.thread_df.tail(num_rows).iloc[::-1]\n",
    "    \n",
    "    def __init__(self):\n",
    "        df_cols = ['start_time', 'finish_time', 'exec_time',\n",
    "                   'cell_text', 'comment', 'error_message']\n",
    "        self.thread_df = pd.DataFrame(columns=df_cols)\n",
    "        \n",
    "    def _add_finish_times(self, thread_id):\n",
    "        \"\"\"Adds the finish time and exec time to thread_df.\n",
    "        \n",
    "        Returns: a tuple of finish time, exec time\n",
    "        \"\"\"\n",
    "        \n",
    "        # Set finish time\n",
    "        finish_time = datetime.now()\n",
    "        self.thread_df.loc[thread_id, 'finish_time'] = finish_time\n",
    "\n",
    "        # Set execution time\n",
    "        exec_time = finish_time - self.thread_df.loc[thread_id, 'start_time']\n",
    "        self.thread_df.loc[thread_id, 'exec_time'] = exec_time\n",
    "        \n",
    "        return finish_time, exec_time\n",
    "    \n",
    "    def get_error_threads(self):\n",
    "        \"\"\"Returns a DataFrame of threads which threw an error.\"\"\"\n",
    "        return self.thread_df[self.thread_df['error_message'] != '']\n",
    "    \n",
    "    def get_finished_threads(self):\n",
    "        \"\"\"Returns a DataFrame of the finished threads.\"\"\"\n",
    "        return self.thread_df[self.thread_df['finish_time'] != '']\n",
    "        \n",
    "    def get_next_thread_id(self):\n",
    "        \"\"\"Returns an integer representing the ID for the next thread.\"\"\"\n",
    "        return self.thread_df.shape[0]\n",
    "\n",
    "    def get_unfinished_threads(self):\n",
    "        \"\"\"Returns a DataFrame of the unfinished threads.\"\"\"\n",
    "        return self.thread_df[self.thread_df['finish_time'] == '']\n",
    "    \n",
    "    def add_thread(self, cell_text, comment='N/A'):\n",
    "        thread_id = self.get_next_thread_id()\n",
    "        start_time = datetime.now()\n",
    "        \n",
    "        self.thread_df.loc[thread_id] = [start_time, '', '', cell_text, comment, '']\n",
    "        print 'Started Thread {} at {}.\\nComment: {}'\\\n",
    "            .format(thread_id, start_time, comment)\n",
    "        \n",
    "    def finish_thread(self, thread_id):\n",
    "        if self.thread_df.loc[thread_id, 'finish_time'] == '':\n",
    "            finish_time, exec_time = self._add_finish_times(thread_id)\n",
    "            \n",
    "            # Print comment\n",
    "            comment = str(self.thread_df.loc[thread_id, 'comment'])\n",
    "            print 'Finished Thread {} at {}.\\nDone in {}.\\nComment: {}'\\\n",
    "                .format(thread_id, finish_time, exec_time, comment)\n",
    "                        \n",
    "        else:\n",
    "            raise Exception('Cannot finish an already completed thread.')\n",
    "        \n",
    "    def raise_thread_error(self, thread_id, error_message):\n",
    "        if self.thread_df.loc[thread_id, 'finish_time'] == '':\n",
    "            exception_message = 'Exception: {}'.format(error_message)\n",
    "            self._add_finish_times(thread_id)            \n",
    "            self.thread_df.loc[thread_id, 'error_message'] = exception_message\n",
    "        \n",
    "thread_manager = ThreadManager()"
   ]
  },
  {
   "cell_type": "code",
   "execution_count": 5,
   "metadata": {
    "ExecuteTime": {
     "end_time": "2017-10-30T19:58:19.419607Z",
     "start_time": "2017-10-30T19:58:19.201936Z"
    },
    "collapsed": true
   },
   "outputs": [],
   "source": [
    "@register_cell_magic\n",
    "def readsql(line, cell):\n",
    "    \"\"\"\n",
    "    Extract the code in the specific cell (should be valid SQL), and \n",
    "    execute it using the connection object to the backend  database.\n",
    "    The resulting pandas DataFrame is rendered inline  below the cell\n",
    "    using IPython.display. You'd use this for SELECT.\n",
    "    \n",
    "    Returns a DataFrame with the name specified in the magic function.\n",
    "    If this is not specified, then the DataFrame is called _df. This\n",
    "    also takes in an option \"-h\", followed by a number. This will show\n",
    "    only the specified number of rows in the DataFrame.\n",
    "    \"\"\"\n",
    "    \n",
    "    # Use the global connection object defined above.\n",
    "    global conn\n",
    "    optlist, args = getopt.getopt(line.split(), 'ih:')\n",
    "    optdict = dict(optlist) \n",
    "    # If '-h' tag is specified, set the number of rows to display\n",
    "    if '-h' in optdict:\n",
    "        head_num = int(optdict['-h'])\n",
    "    \n",
    "    # Do string formatting. If a PL/Python function\n",
    "    # is being created, then it should not try and\n",
    "    # format whatever is inside the function.\n",
    "    split_cell = cell.split('$')\n",
    "    if '-i' not in optdict:\n",
    "        if len(split_cell) > 1:\n",
    "            split_cell[0] = split_cell[0].format(**globals())\n",
    "            split_cell[-1] = split_cell[-1].format(**globals())\n",
    "            cell = '$'.join(split_cell)\n",
    "        elif len(split_cell) == 1:\n",
    "            cell = cell.format(**globals()) \n",
    "    \n",
    "    # If there is more than one table name specified,\n",
    "    # throw an exception.\n",
    "    if len(args) > 1:\n",
    "        raise Exception('More than one table name specified.')\n",
    "\n",
    "    elif len(args) == 1:\n",
    "        # If a table name is specified, store it as that\n",
    "        table_name = args[0]\n",
    "        globals()[table_name] = psql.read_sql(cell, conn)\n",
    "        if '-h' in optdict:\n",
    "            # If head_num is not 0, then display rows\n",
    "            if head_num != 0:\n",
    "                display(globals()[table_name].head(int(optdict['-h'])))\n",
    "        else:\n",
    "            display(globals()[table_name])\n",
    "\n",
    "    else:\n",
    "        # Otherwise, call it _df\n",
    "        global _df\n",
    "        _df = psql.read_sql(cell, conn)\n",
    "        if '-h' in optdict:\n",
    "            # If head_num is not 0, then display rows\n",
    "            if head_num != 0:\n",
    "                display(_df.head(head_num))\n",
    "        else:\n",
    "            display(_df)\n",
    "            \n",
    "    refresh_tables(conn)\n",
    "\n",
    "@register_cell_magic\n",
    "def execsql(line, cell):\n",
    "    \"\"\"\n",
    "    Extract the code in the specific cell (should be valid SQL), and\n",
    "    execute it using the connection object to the backend  database.\n",
    "    You'd use this for CREATE/UPDATE/DELETE.\n",
    "    \"\"\"\n",
    "    \n",
    "    # Use the global connection object defined above.\n",
    "    global conn\n",
    "    optlist, args = getopt.getopt(line.split(), 'ih:')\n",
    "    optdict = dict(optlist)\n",
    "    \n",
    "    # Do string formatting. If a PL/Python function\n",
    "    # is being created, then it should not try and\n",
    "    # format whatever is inside the function.\n",
    "    split_cell = cell.split('$')\n",
    "    if '-i' not in optdict:\n",
    "        if len(split_cell) > 1:\n",
    "            split_cell[0] = split_cell[0].format(**globals())\n",
    "            split_cell[-1] = split_cell[-1].format(**globals())\n",
    "            cell = '$'.join(split_cell)\n",
    "        elif len(split_cell) == 1:\n",
    "            cell = cell.format(**globals())\n",
    "    psql.execute(cell, conn)\n",
    "    refresh_tables(conn)\n",
    "\n",
    "@register_cell_magic\n",
    "def printsql(line, cell):\n",
    "    \"\"\"Show the SQL query that will be run.\"\"\"\n",
    "    \n",
    "    optlist, args = getopt.getopt(line.split(), 'ih:')\n",
    "    optdict = dict(optlist)\n",
    "    \n",
    "    # Do string formatting. If a PL/Python function\n",
    "    # is being created, then it should not try and\n",
    "    # format whatever is inside the function.\n",
    "    split_cell = cell.split('$')\n",
    "    if '-i' not in optdict:\n",
    "        if len(split_cell) > 1:\n",
    "            split_cell[0] = split_cell[0].format(**globals())\n",
    "            split_cell[-1] = split_cell[-1].format(**globals())\n",
    "            cell = '$'.join(split_cell)\n",
    "        elif len(split_cell) == 1:\n",
    "            cell = cell.format(**globals())\n",
    "    print cell\n",
    "    \n",
    "@register_cell_magic\n",
    "def background(line, cell):\n",
    "    \"\"\"Runs whatever is in the cell in a separate thread. This allows\n",
    "    the user to run cells in the background so that additional cells\n",
    "    can be run concurrently. This will also micromanage by labelling \n",
    "    each thread with an id number.\n",
    "    \n",
    "    Whatever follows after specifying '%%background' will be used as a\n",
    "    comment to label the process if the id number is not descriptive\n",
    "    enough.\n",
    "    \"\"\"\n",
    "    \n",
    "    def is_useful_code(code):\n",
    "        \"\"\"Returns True if code is useful to use. Code that is\n",
    "        considered not useful is code that contains only commented\n",
    "        lines or empty lines.\"\"\"\n",
    "\n",
    "        lines = code.split('\\n')\n",
    "\n",
    "        # For each line, check if line equals '' or starts with a '#'\n",
    "        return not np.all([line == '' or line[0] == '#' for line in lines])\n",
    "    \n",
    "    def run_cell(cell_value, line_value, thread_id):\n",
    "        try:\n",
    "            exec cell_value in globals()\n",
    "        except Exception as error_message:\n",
    "            thread_manager.raise_thread_error(thread_id, error_message)\n",
    "            raise Exception(error_message)\n",
    "            \n",
    "        thread_manager.finish_thread(thread_id)\n",
    "        \n",
    "    def get_thread_comment(line, sub_comment):\n",
    "        \"\"\"Gets the final thread comment by looking at the main comment\n",
    "        line and the sub-comments.\"\"\"\n",
    "        \n",
    "        # Has main comment if the length of the line is greater than 0\n",
    "        # or if the line is not all spaces\n",
    "        has_main_comment = len(line) > 0 and not bool(re.match('^( )+$', line))\n",
    "        \n",
    "        # Has sub comment if it is not None and if it is not equal to\n",
    "        # the blank string (The regex will handle cases of all spaces)\n",
    "        has_sub_comment = sub_comment is not None and sub_comment != ''\n",
    "        \n",
    "        if has_main_comment:\n",
    "            if has_sub_comment:\n",
    "                return '{} - {}'.format(line, sub_comment)\n",
    "            else:\n",
    "                return line\n",
    "                \n",
    "        else:\n",
    "            if has_sub_comment:\n",
    "                return sub_comment\n",
    "            else:\n",
    "                return 'N/A'\n",
    "        \n",
    "    # Splits the code into separate threads by lines that start with\n",
    "    # two or more '#' characters. \n",
    "    cell_list = re.split('(?:^#{2,}|\\n#{2,}).*\\n', cell)\n",
    "    cell_list = [sub_cell\n",
    "                     for sub_cell in cell_list\n",
    "                         if is_useful_code(sub_cell)]\n",
    "    \n",
    "    # Find comment fields, which are defined by lines with two or more\n",
    "    # '#' characters, spaces, any character (except '#' and '\\n'), then\n",
    "    # a terminating '\\n'. Use non-capturing group to ignore '#'\n",
    "    # characters and spaces before the comment.\n",
    "    comment_list = re.findall('(?:^#{2,}|\\n#{2,})(?: )*([^#\\n]*)\\n', cell)\n",
    "\n",
    "    # If there is no break above the first one, comment list will be\n",
    "    # smaller than cell list, and it will be offset by one.\n",
    "    if len(comment_list) < len(cell_list):\n",
    "        comment_list.insert(0, None)\n",
    "        \n",
    "    for sub_cell, sub_comment in izip_longest(cell_list, comment_list):\n",
    "        thread_id = thread_manager.get_next_thread_id()\n",
    "\n",
    "        # Add thread to thread manager\n",
    "        thread_comment = get_thread_comment(line, sub_comment)\n",
    "    \n",
    "        thread_manager.add_thread(cell_text=sub_cell,\n",
    "                                  comment=thread_comment\n",
    "                                 )\n",
    "\n",
    "        # Run the thread in the background\n",
    "        thread = threading.Thread(target=run_cell,\n",
    "                                  args=(sub_cell, line, thread_id)\n",
    "                                 )\n",
    "        thread.start()\n",
    "\n",
    "# We delete these to avoid name conflicts for automagic to work\n",
    "del execsql, readsql, printsql, background"
   ]
  },
  {
   "cell_type": "code",
   "execution_count": null,
   "metadata": {
    "ExecuteTime": {
     "end_time": "2017-10-30T19:27:24.664059Z",
     "start_time": "2017-10-30T19:27:24.454488Z"
    }
   },
   "outputs": [],
   "source": [
    "sql = '''\n",
    "DROP TABLE IF EXISTS test;\n",
    "CREATE TABLE test\n",
    "   AS SELECT random()^2 AS x,\n",
    "             random()^2 AS y,\n",
    "             'test_' || row_number() OVER () AS txt_col,\n",
    "             CASE WHEN row_number() OVER () < 4000 THEN 'first'\n",
    "                  ELSE 'second'\n",
    "              END AS category,\n",
    "             '2017-01-01'::DATE + INTERVAL '1 DAY' * row_number() OVER () AS date_col\n",
    "        FROM generate_series(1, 10000);\n",
    "        \n",
    "DROP TABLE IF EXISTS test_2;\n",
    "CREATE TABLE test_2\n",
    "   AS SELECT random()^2 AS x,\n",
    "             random()^2 AS y,\n",
    "             'test_' || row_number() OVER () AS txt_col,\n",
    "             CASE WHEN row_number() OVER () < 4000 THEN 'first'\n",
    "                  ELSE 'second'\n",
    "              END AS category,\n",
    "             '2017-01-01'::DATE + INTERVAL '1 DAY' * row_number() OVER () AS date_col\n",
    "        FROM generate_series(1, 10000);\n",
    "'''\n",
    "psql.execute(sql, conn)"
   ]
  },
  {
   "cell_type": "code",
   "execution_count": null,
   "metadata": {
    "ExecuteTime": {
     "end_time": "2017-10-27T14:58:45.719432Z",
     "start_time": "2017-10-27T14:58:45.669754Z"
    },
    "collapsed": true
   },
   "outputs": [],
   "source": [
    "sql = '''\n",
    "DROP TABLE IF EXISTS test_date;\n",
    "CREATE TABLE test_date\n",
    "   AS SELECT (days * INTERVAL '1 DAY' + '2017-01-01'::DATE) AS date_col\n",
    "        FROM (SELECT UNNEST(ARRAY[1, 1, 1, 1, 2, 2, 3, 3, 4, 5, 5, 5, 5]) AS days) AS foo\n",
    "'''\n",
    "psql.execute(sql, conn)"
   ]
  },
  {
   "cell_type": "code",
   "execution_count": null,
   "metadata": {
    "ExecuteTime": {
     "end_time": "2017-10-30T19:27:36.790809Z",
     "start_time": "2017-10-30T19:27:36.746591Z"
    },
    "collapsed": true
   },
   "outputs": [],
   "source": [
    "test = Table('test', metadata, autoload=True, schema='public')\n",
    "test_2 = Table('test_2', metadata, autoload=True, schema='public')\n",
    "test_date = Table('test_date', metadata, autoload=True, schema='public')\n",
    "info_cols = Table('columns', metadata, autoload=True,\n",
    "                  schema='information_schema')"
   ]
  },
  {
   "cell_type": "code",
   "execution_count": null,
   "metadata": {
    "ExecuteTime": {
     "end_time": "2017-10-27T19:54:25.984495Z",
     "start_time": "2017-10-27T19:54:25.662406Z"
    }
   },
   "outputs": [],
   "source": [
    "hist_df = get_histogram_values('test', 'x', engine)\n",
    "display(hist_df.head())\n",
    "plot_numeric_hists(hist_df)"
   ]
  },
  {
   "cell_type": "code",
   "execution_count": null,
   "metadata": {
    "ExecuteTime": {
     "end_time": "2017-10-27T20:47:57.573249Z",
     "start_time": "2017-10-27T20:47:57.258529Z"
    }
   },
   "outputs": [],
   "source": [
    "hist_df = get_histogram_values(test, 'x', engine)\n",
    "display(hist_df.head())\n",
    "plot_numeric_hists(hist_df)"
   ]
  },
  {
   "cell_type": "code",
   "execution_count": null,
   "metadata": {
    "ExecuteTime": {
     "end_time": "2017-10-27T21:24:18.774101Z",
     "start_time": "2017-10-27T21:24:18.596317Z"
    }
   },
   "outputs": [],
   "source": [
    "hist_df = get_histogram_values(test, 'category', engine)\n",
    "display(hist_df.head())\n",
    "plot_categorical_hists([hist_df, hist_df])"
   ]
  },
  {
   "cell_type": "code",
   "execution_count": null,
   "metadata": {
    "ExecuteTime": {
     "end_time": "2017-10-27T21:11:32.533806Z",
     "start_time": "2017-10-27T21:11:32.347876Z"
    }
   },
   "outputs": [],
   "source": [
    "hist_df\\\n",
    "    .merge(hist_df, on='category')\\\n",
    "    .set_index('category')\\\n",
    "    .plot(kind='bar')"
   ]
  },
  {
   "cell_type": "code",
   "execution_count": null,
   "metadata": {
    "ExecuteTime": {
     "end_time": "2017-10-27T21:06:53.733039Z",
     "start_time": "2017-10-27T21:06:53.552935Z"
    }
   },
   "outputs": [],
   "source": [
    "fig, ax = plt.subplots()\n",
    "hist_df\\\n",
    "    .set_index('category')\\\n",
    "    .plot(kind='bar', ax=ax)\n",
    "hist_df\\\n",
    "    .set_index('category')\\\n",
    "    .plot(kind='bar', ax=ax)"
   ]
  },
  {
   "cell_type": "code",
   "execution_count": null,
   "metadata": {
    "collapsed": true
   },
   "outputs": [],
   "source": []
  },
  {
   "cell_type": "code",
   "execution_count": null,
   "metadata": {
    "collapsed": true
   },
   "outputs": [],
   "source": []
  },
  {
   "cell_type": "code",
   "execution_count": null,
   "metadata": {
    "ExecuteTime": {
     "end_time": "2017-10-27T20:48:10.785001Z",
     "start_time": "2017-10-27T20:48:10.719073Z"
    },
    "scrolled": true
   },
   "outputs": [],
   "source": [
    "hist_df = get_histogram_values(test_date, 'date_col', engine)\n",
    "display(hist_df.head())\n",
    "plot_date_hists(hist_df)"
   ]
  },
  {
   "cell_type": "code",
   "execution_count": null,
   "metadata": {
    "ExecuteTime": {
     "end_time": "2017-10-27T19:42:54.601617Z",
     "start_time": "2017-10-27T19:42:54.250403Z"
    },
    "collapsed": true
   },
   "outputs": [],
   "source": [
    "scatter_df = get_scatterplot_values(test, 'x', 'y', engine, nbins=(50, 50))"
   ]
  },
  {
   "cell_type": "code",
   "execution_count": null,
   "metadata": {
    "ExecuteTime": {
     "end_time": "2017-10-27T19:42:54.821102Z",
     "start_time": "2017-10-27T19:42:54.604539Z"
    }
   },
   "outputs": [],
   "source": [
    "plot_scatterplot(scatter_df)"
   ]
  },
  {
   "cell_type": "code",
   "execution_count": null,
   "metadata": {
    "ExecuteTime": {
     "end_time": "2017-10-27T19:42:55.703842Z",
     "start_time": "2017-10-27T19:42:55.403396Z"
    }
   },
   "outputs": [],
   "source": [
    "plot_scatterplot(scatter_df, plot_type='heatmap')\n",
    "plt.colorbar()"
   ]
  },
  {
   "cell_type": "code",
   "execution_count": null,
   "metadata": {
    "collapsed": true
   },
   "outputs": [],
   "source": []
  },
  {
   "cell_type": "code",
   "execution_count": null,
   "metadata": {
    "collapsed": true
   },
   "outputs": [],
   "source": []
  },
  {
   "cell_type": "code",
   "execution_count": 9,
   "metadata": {
    "ExecuteTime": {
     "end_time": "2017-10-30T19:58:43.550979Z",
     "start_time": "2017-10-30T19:58:43.488291Z"
    }
   },
   "outputs": [
    {
     "data": {
      "text/plain": [
       "<cursor object at 0x10fcdfc50; closed: 0>"
      ]
     },
     "execution_count": 9,
     "metadata": {},
     "output_type": "execute_result"
    }
   ],
   "source": [
    "sql = '''\n",
    "DROP TABLE IF EXISTS test;\n",
    "CREATE TABLE test\n",
    "   AS SELECT generate_series(0, 10) AS id;\n",
    "   \n",
    "DROP TABLE IF EXISTS test_2;\n",
    "CREATE TABLE test_2\n",
    "   AS SELECT generate_series(5, 15) AS id;\n",
    "'''\n",
    "psql.execute(sql, conn)"
   ]
  },
  {
   "cell_type": "code",
   "execution_count": 10,
   "metadata": {
    "ExecuteTime": {
     "end_time": "2017-10-30T19:58:44.679126Z",
     "start_time": "2017-10-30T19:58:44.637285Z"
    },
    "collapsed": true
   },
   "outputs": [],
   "source": [
    "metadata = MetaData(engine)"
   ]
  },
  {
   "cell_type": "code",
   "execution_count": 11,
   "metadata": {
    "ExecuteTime": {
     "end_time": "2017-10-30T19:58:45.396848Z",
     "start_time": "2017-10-30T19:58:45.345846Z"
    }
   },
   "outputs": [],
   "source": [
    "test = Table('test', metadata, autoload=True, schema='public')\n",
    "test_2 = Table('test_2', metadata, autoload=True, schema='public')"
   ]
  },
  {
   "cell_type": "code",
   "execution_count": 17,
   "metadata": {
    "ExecuteTime": {
     "end_time": "2017-10-30T19:59:17.391072Z",
     "start_time": "2017-10-30T19:59:17.344667Z"
    }
   },
   "outputs": [
    {
     "name": "stdout",
     "output_type": "stream",
     "text": [
      "SELECT public.test.id, public.test_2.id \n",
      "FROM public.test JOIN public.test_2 ON public.test.id = public.test_2.id \n",
      " LIMIT %(param_1)s\n"
     ]
    },
    {
     "data": {
      "text/html": [
       "<div>\n",
       "<style>\n",
       "    .dataframe thead tr:only-child th {\n",
       "        text-align: right;\n",
       "    }\n",
       "\n",
       "    .dataframe thead th {\n",
       "        text-align: left;\n",
       "    }\n",
       "\n",
       "    .dataframe tbody tr th {\n",
       "        vertical-align: top;\n",
       "    }\n",
       "</style>\n",
       "<table border=\"1\" class=\"dataframe\">\n",
       "  <thead>\n",
       "    <tr style=\"text-align: right;\">\n",
       "      <th></th>\n",
       "      <th>id</th>\n",
       "      <th>id</th>\n",
       "    </tr>\n",
       "  </thead>\n",
       "  <tbody>\n",
       "    <tr>\n",
       "      <th>0</th>\n",
       "      <td>5</td>\n",
       "      <td>5</td>\n",
       "    </tr>\n",
       "    <tr>\n",
       "      <th>1</th>\n",
       "      <td>6</td>\n",
       "      <td>6</td>\n",
       "    </tr>\n",
       "    <tr>\n",
       "      <th>2</th>\n",
       "      <td>7</td>\n",
       "      <td>7</td>\n",
       "    </tr>\n",
       "    <tr>\n",
       "      <th>3</th>\n",
       "      <td>8</td>\n",
       "      <td>8</td>\n",
       "    </tr>\n",
       "    <tr>\n",
       "      <th>4</th>\n",
       "      <td>9</td>\n",
       "      <td>9</td>\n",
       "    </tr>\n",
       "    <tr>\n",
       "      <th>5</th>\n",
       "      <td>10</td>\n",
       "      <td>10</td>\n",
       "    </tr>\n",
       "  </tbody>\n",
       "</table>\n",
       "</div>"
      ],
      "text/plain": [
       "   id  id\n",
       "0   5   5\n",
       "1   6   6\n",
       "2   7   7\n",
       "3   8   8\n",
       "4   9   9\n",
       "5  10  10"
      ]
     },
     "execution_count": 17,
     "metadata": {},
     "output_type": "execute_result"
    }
   ],
   "source": [
    "sql = select([test.c.id, test_2.c.id], \n",
    "             from_obj=test.join(test_2, onclause=(test.c.id == test_2.c.id))\n",
    "            )\n",
    "    \n",
    "print sql\n",
    "psql.read_sql(sql, engine)"
   ]
  },
  {
   "cell_type": "code",
   "execution_count": 21,
   "metadata": {
    "ExecuteTime": {
     "end_time": "2017-10-30T19:59:59.319623Z",
     "start_time": "2017-10-30T19:59:59.280068Z"
    }
   },
   "outputs": [],
   "source": [
    "test_ss = select([test.c.id]).alias('foo')\n",
    "test_ss_2 = select([test_2.c.id]).alias('foo_2')"
   ]
  },
  {
   "cell_type": "code",
   "execution_count": 22,
   "metadata": {
    "ExecuteTime": {
     "end_time": "2017-10-30T20:00:00.077634Z",
     "start_time": "2017-10-30T20:00:00.021581Z"
    }
   },
   "outputs": [
    {
     "name": "stdout",
     "output_type": "stream",
     "text": [
      "SELECT foo.id, foo_2.id \n",
      "FROM (SELECT public.test.id AS id \n",
      "FROM public.test) AS foo JOIN (SELECT public.test_2.id AS id \n",
      "FROM public.test_2) AS foo_2 ON foo.id = foo_2.id\n"
     ]
    },
    {
     "data": {
      "text/html": [
       "<div>\n",
       "<style>\n",
       "    .dataframe thead tr:only-child th {\n",
       "        text-align: right;\n",
       "    }\n",
       "\n",
       "    .dataframe thead th {\n",
       "        text-align: left;\n",
       "    }\n",
       "\n",
       "    .dataframe tbody tr th {\n",
       "        vertical-align: top;\n",
       "    }\n",
       "</style>\n",
       "<table border=\"1\" class=\"dataframe\">\n",
       "  <thead>\n",
       "    <tr style=\"text-align: right;\">\n",
       "      <th></th>\n",
       "      <th>id</th>\n",
       "      <th>id</th>\n",
       "    </tr>\n",
       "  </thead>\n",
       "  <tbody>\n",
       "    <tr>\n",
       "      <th>0</th>\n",
       "      <td>5</td>\n",
       "      <td>5</td>\n",
       "    </tr>\n",
       "    <tr>\n",
       "      <th>1</th>\n",
       "      <td>6</td>\n",
       "      <td>6</td>\n",
       "    </tr>\n",
       "    <tr>\n",
       "      <th>2</th>\n",
       "      <td>7</td>\n",
       "      <td>7</td>\n",
       "    </tr>\n",
       "    <tr>\n",
       "      <th>3</th>\n",
       "      <td>8</td>\n",
       "      <td>8</td>\n",
       "    </tr>\n",
       "    <tr>\n",
       "      <th>4</th>\n",
       "      <td>9</td>\n",
       "      <td>9</td>\n",
       "    </tr>\n",
       "    <tr>\n",
       "      <th>5</th>\n",
       "      <td>10</td>\n",
       "      <td>10</td>\n",
       "    </tr>\n",
       "  </tbody>\n",
       "</table>\n",
       "</div>"
      ],
      "text/plain": [
       "   id  id\n",
       "0   5   5\n",
       "1   6   6\n",
       "2   7   7\n",
       "3   8   8\n",
       "4   9   9\n",
       "5  10  10"
      ]
     },
     "execution_count": 22,
     "metadata": {},
     "output_type": "execute_result"
    }
   ],
   "source": [
    "sql = select([test_ss.c.id, test_ss_2.c.id], \n",
    "             from_obj=test_ss.join(test_ss_2, onclause=(test_ss.c.id == test_ss_2.c.id))\n",
    "            )\n",
    "print sql\n",
    "psql.read_sql(sql, engine)"
   ]
  },
  {
   "cell_type": "code",
   "execution_count": 23,
   "metadata": {
    "ExecuteTime": {
     "end_time": "2017-10-30T20:00:21.964656Z",
     "start_time": "2017-10-30T20:00:21.919768Z"
    }
   },
   "outputs": [
    {
     "name": "stdout",
     "output_type": "stream",
     "text": [
      "SELECT foo.id, foo_2.id \n",
      "FROM (SELECT public.test.id AS id \n",
      "FROM public.test) AS foo JOIN (SELECT public.test_2.id AS id \n",
      "FROM public.test_2) AS foo_2 ON foo.id = foo_2.id\n"
     ]
    },
    {
     "data": {
      "text/html": [
       "<div>\n",
       "<style>\n",
       "    .dataframe thead tr:only-child th {\n",
       "        text-align: right;\n",
       "    }\n",
       "\n",
       "    .dataframe thead th {\n",
       "        text-align: left;\n",
       "    }\n",
       "\n",
       "    .dataframe tbody tr th {\n",
       "        vertical-align: top;\n",
       "    }\n",
       "</style>\n",
       "<table border=\"1\" class=\"dataframe\">\n",
       "  <thead>\n",
       "    <tr style=\"text-align: right;\">\n",
       "      <th></th>\n",
       "      <th>id</th>\n",
       "      <th>id</th>\n",
       "    </tr>\n",
       "  </thead>\n",
       "  <tbody>\n",
       "    <tr>\n",
       "      <th>0</th>\n",
       "      <td>5</td>\n",
       "      <td>5</td>\n",
       "    </tr>\n",
       "    <tr>\n",
       "      <th>1</th>\n",
       "      <td>6</td>\n",
       "      <td>6</td>\n",
       "    </tr>\n",
       "    <tr>\n",
       "      <th>2</th>\n",
       "      <td>7</td>\n",
       "      <td>7</td>\n",
       "    </tr>\n",
       "    <tr>\n",
       "      <th>3</th>\n",
       "      <td>8</td>\n",
       "      <td>8</td>\n",
       "    </tr>\n",
       "    <tr>\n",
       "      <th>4</th>\n",
       "      <td>9</td>\n",
       "      <td>9</td>\n",
       "    </tr>\n",
       "    <tr>\n",
       "      <th>5</th>\n",
       "      <td>10</td>\n",
       "      <td>10</td>\n",
       "    </tr>\n",
       "  </tbody>\n",
       "</table>\n",
       "</div>"
      ],
      "text/plain": [
       "   id  id\n",
       "0   5   5\n",
       "1   6   6\n",
       "2   7   7\n",
       "3   8   8\n",
       "4   9   9\n",
       "5  10  10"
      ]
     },
     "execution_count": 23,
     "metadata": {},
     "output_type": "execute_result"
    }
   ],
   "source": [
    "join_table = test_ss.join(test_ss_2, onclause=(test_ss.c.id == test_ss_2.c.id))\n",
    "sql = select([test_ss.c.id, test_ss_2.c.id], \n",
    "             from_obj=join_table\n",
    "            )\n",
    "print sql\n",
    "psql.read_sql(sql, engine)"
   ]
  },
  {
   "cell_type": "code",
   "execution_count": 24,
   "metadata": {
    "ExecuteTime": {
     "end_time": "2017-10-30T20:04:54.645572Z",
     "start_time": "2017-10-30T20:04:54.602102Z"
    }
   },
   "outputs": [
    {
     "name": "stdout",
     "output_type": "stream",
     "text": [
      "SELECT foo.id, public.test_2.id \n",
      "FROM (SELECT public.test.id AS id \n",
      "FROM public.test) AS foo JOIN public.test_2 ON foo.id = public.test_2.id\n"
     ]
    },
    {
     "data": {
      "text/html": [
       "<div>\n",
       "<style>\n",
       "    .dataframe thead tr:only-child th {\n",
       "        text-align: right;\n",
       "    }\n",
       "\n",
       "    .dataframe thead th {\n",
       "        text-align: left;\n",
       "    }\n",
       "\n",
       "    .dataframe tbody tr th {\n",
       "        vertical-align: top;\n",
       "    }\n",
       "</style>\n",
       "<table border=\"1\" class=\"dataframe\">\n",
       "  <thead>\n",
       "    <tr style=\"text-align: right;\">\n",
       "      <th></th>\n",
       "      <th>id</th>\n",
       "      <th>id</th>\n",
       "    </tr>\n",
       "  </thead>\n",
       "  <tbody>\n",
       "    <tr>\n",
       "      <th>0</th>\n",
       "      <td>5</td>\n",
       "      <td>5</td>\n",
       "    </tr>\n",
       "    <tr>\n",
       "      <th>1</th>\n",
       "      <td>6</td>\n",
       "      <td>6</td>\n",
       "    </tr>\n",
       "    <tr>\n",
       "      <th>2</th>\n",
       "      <td>7</td>\n",
       "      <td>7</td>\n",
       "    </tr>\n",
       "    <tr>\n",
       "      <th>3</th>\n",
       "      <td>8</td>\n",
       "      <td>8</td>\n",
       "    </tr>\n",
       "    <tr>\n",
       "      <th>4</th>\n",
       "      <td>9</td>\n",
       "      <td>9</td>\n",
       "    </tr>\n",
       "    <tr>\n",
       "      <th>5</th>\n",
       "      <td>10</td>\n",
       "      <td>10</td>\n",
       "    </tr>\n",
       "  </tbody>\n",
       "</table>\n",
       "</div>"
      ],
      "text/plain": [
       "   id  id\n",
       "0   5   5\n",
       "1   6   6\n",
       "2   7   7\n",
       "3   8   8\n",
       "4   9   9\n",
       "5  10  10"
      ]
     },
     "execution_count": 24,
     "metadata": {},
     "output_type": "execute_result"
    }
   ],
   "source": [
    "join_table = test_ss.join(test_2, onclause=(test_ss.c.id == test_2.c.id))\n",
    "sql = select([test_ss.c.id, test_2.c.id], \n",
    "             from_obj=join_table\n",
    "            )\n",
    "print sql\n",
    "psql.read_sql(sql, engine)"
   ]
  },
  {
   "cell_type": "code",
   "execution_count": 26,
   "metadata": {
    "ExecuteTime": {
     "end_time": "2017-10-30T20:07:13.258386Z",
     "start_time": "2017-10-30T20:07:13.213114Z"
    }
   },
   "outputs": [
    {
     "name": "stdout",
     "output_type": "stream",
     "text": [
      "SELECT foo.id, public.test_2.id \n",
      "FROM (SELECT public.test.id AS id \n",
      "FROM public.test) AS foo JOIN public.test_2 ON foo.id = public.test_2.id\n"
     ]
    },
    {
     "data": {
      "text/html": [
       "<div>\n",
       "<style>\n",
       "    .dataframe thead tr:only-child th {\n",
       "        text-align: right;\n",
       "    }\n",
       "\n",
       "    .dataframe thead th {\n",
       "        text-align: left;\n",
       "    }\n",
       "\n",
       "    .dataframe tbody tr th {\n",
       "        vertical-align: top;\n",
       "    }\n",
       "</style>\n",
       "<table border=\"1\" class=\"dataframe\">\n",
       "  <thead>\n",
       "    <tr style=\"text-align: right;\">\n",
       "      <th></th>\n",
       "      <th>id</th>\n",
       "      <th>id</th>\n",
       "    </tr>\n",
       "  </thead>\n",
       "  <tbody>\n",
       "    <tr>\n",
       "      <th>0</th>\n",
       "      <td>5</td>\n",
       "      <td>5</td>\n",
       "    </tr>\n",
       "    <tr>\n",
       "      <th>1</th>\n",
       "      <td>6</td>\n",
       "      <td>6</td>\n",
       "    </tr>\n",
       "    <tr>\n",
       "      <th>2</th>\n",
       "      <td>7</td>\n",
       "      <td>7</td>\n",
       "    </tr>\n",
       "    <tr>\n",
       "      <th>3</th>\n",
       "      <td>8</td>\n",
       "      <td>8</td>\n",
       "    </tr>\n",
       "    <tr>\n",
       "      <th>4</th>\n",
       "      <td>9</td>\n",
       "      <td>9</td>\n",
       "    </tr>\n",
       "    <tr>\n",
       "      <th>5</th>\n",
       "      <td>10</td>\n",
       "      <td>10</td>\n",
       "    </tr>\n",
       "  </tbody>\n",
       "</table>\n",
       "</div>"
      ],
      "text/plain": [
       "   id  id\n",
       "0   5   5\n",
       "1   6   6\n",
       "2   7   7\n",
       "3   8   8\n",
       "4   9   9\n",
       "5  10  10"
      ]
     },
     "execution_count": 26,
     "metadata": {},
     "output_type": "execute_result"
    }
   ],
   "source": [
    "join_table = test_ss.join(test_2, onclause=(test_ss.c.id == test_2.c.id))\n",
    "sql = select([test_ss.c.id, test_2.c.id])\\\n",
    "    .select_from(join_table)\n",
    "\n",
    "print sql\n",
    "psql.read_sql(sql, engine)"
   ]
  },
  {
   "cell_type": "code",
   "execution_count": null,
   "metadata": {
    "collapsed": true
   },
   "outputs": [],
   "source": []
  },
  {
   "cell_type": "code",
   "execution_count": null,
   "metadata": {
    "collapsed": true
   },
   "outputs": [],
   "source": []
  },
  {
   "cell_type": "code",
   "execution_count": null,
   "metadata": {
    "collapsed": true
   },
   "outputs": [],
   "source": []
  },
  {
   "cell_type": "code",
   "execution_count": null,
   "metadata": {
    "collapsed": true
   },
   "outputs": [],
   "source": []
  }
 ],
 "metadata": {
  "kernelspec": {
   "display_name": "Python 2",
   "language": "python",
   "name": "python2"
  },
  "language_info": {
   "codemirror_mode": {
    "name": "ipython",
    "version": 2
   },
   "file_extension": ".py",
   "mimetype": "text/x-python",
   "name": "python",
   "nbconvert_exporter": "python",
   "pygments_lexer": "ipython2",
   "version": "2.7.13"
  },
  "toc": {
   "nav_menu": {},
   "number_sections": true,
   "sideBar": true,
   "skip_h1_title": false,
   "toc_cell": true,
   "toc_position": {
    "height": "970px",
    "left": "0px",
    "right": "851px",
    "top": "106px",
    "width": "109px"
   },
   "toc_section_display": "block",
   "toc_window_display": true
  }
 },
 "nbformat": 4,
 "nbformat_minor": 2
}
